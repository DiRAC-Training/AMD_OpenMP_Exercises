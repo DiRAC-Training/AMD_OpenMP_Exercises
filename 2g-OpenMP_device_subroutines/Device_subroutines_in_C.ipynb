{
 "cells": [
  {
   "cell_type": "markdown",
   "id": "9cbf2062-cd90-45f1-9382-498ac47b8212",
   "metadata": {},
   "source": [
    "# Device functions and subroutines in C\n",
    "\n",
    "Until now, we have focused on how to offload data or particular calculations to the GPU.\n",
    "In most real software applications, however, we will want to pass data through a pipeline of multiple functions and routines before completion.\n",
    "In this notebook, we will learn how to call functions to run on the device from within existing target regions.\n",
    "In so doing, we will combine many of the things we have learned up to this point, and let you try porting some code to the GPU using OpenMP yourself.\n",
    "\n",
    "Let's begin as usual with our environment check and moving into the appropriate directory:"
   ]
  },
  {
   "cell_type": "code",
   "execution_count": null,
   "id": "195bd113-fb16-44ea-bb42-aa6e1d8e4072",
   "metadata": {},
   "outputs": [],
   "source": [
    "rocm-smi\n",
    "cd $HOME/DiRAC-AMD-GPU/notebooks/02-OpenMP/2g-OpenMP_device_subroutines/C"
   ]
  },
  {
   "cell_type": "markdown",
   "id": "a7794e57-d311-47ec-9150-effd7de4ec23",
   "metadata": {},
   "source": [
    "## The `declare target` clause\n",
    "\n",
    "Calling a function that has been compiled for the architecture of the host from within a target region can have unexpected consequences.\n",
    "It may not be able to run on the device architecture, and in some compilers may even cause a linking error.\n",
    "To ensure that our functions can run on the device, we must indicate to the compiler that a device-compatible version should be generated.\n",
    "We can do this by decorating a function with the `declare target` clause.\n",
    "\n",
    "As with data regions, the `declare target` clause can be used in a number of different ways.\n",
    "We can add `#pragma omp declare target` directly before a particular function to specify it as our target function directly, or place it around said function with additional `begin` and `end` clauses.\n",
    "Finally, it is also possible to pre-declare a range of target functions using `declare target(func-list)`, with the names of the target functions in question as a comma separated `func-list`.\n",
    "\n",
    "To get started, let's move into our first example directory, `1_device_routine/0_device_routine_portyourself`, and clean our environment therein."
   ]
  },
  {
   "cell_type": "code",
   "execution_count": null,
   "id": "195c99fb-f541-4f5c-aceb-44f21927f9aa",
   "metadata": {},
   "outputs": [],
   "source": [
    "cd $HOME/DiRAC-AMD-GPU/notebooks/02-OpenMP/2g-OpenMP_device_subroutines/C/1_device_routine/0_device_routine_portyourself\n",
    "make clean\n",
    "ls"
   ]
  },
  {
   "cell_type": "markdown",
   "id": "16bf9761-3c4d-4a5e-98f1-a1d275310d5a",
   "metadata": {},
   "source": [
    "There are 2 files in the source code; [`device_routine.c`](./C/1_device_routine/0_device_routine_portyourself/device_routine.c),  which contains the `main` function; and [`compute.c`](./C/1_device_routine/0_device_routine_portyourself/compute.c), where the `compute()` function is implemented.\n",
    "At the moment, this code will run in serial on the CPU - it is your task to implement the appropriate OpenMP pragmas to get it running properly on the GPU.\n",
    "\n",
    "Before porting the code, read the source code and try to understand it.\n",
    "Then, compile and run this baseline CPU version, to know what to expect:"
   ]
  },
  {
   "cell_type": "code",
   "execution_count": null,
   "id": "9ab443ff-6563-46c3-ba17-1e4d1b5451c0",
   "metadata": {},
   "outputs": [],
   "source": [
    "make\n",
    "./device_routine"
   ]
  },
  {
   "cell_type": "markdown",
   "id": "5fd1d989-6c89-40a1-a7a6-04a84687cb02",
   "metadata": {},
   "source": [
    "To port the code, we can either use unmanaged memory with an unstructured data region - as covered in [2d-OpenMP_explicit_memory_directive](../2d-OpenMP_explicit_memory_directive/Explicit_memory_management_in_C.ipynb) - or managed memory with unified shared memory - which was covered in [2e-OpenMP_managed_memory](../2e-OpenMP_managed_memory/Managed_memory_in_C.ipynb).\n",
    "Note that if using unified shared memory, the function `compute` in [`compute.c`](./C/1_device_routine/0_device_routine_portyourself/compute.c) will also need to include the `requires unified_shared_memory` directive, and you must enable `HSA_XNACK`.\n",
    "\n",
    "Make sure you identify all the appropriate parallel regions for offloading, and use the appropriate OpenMP clause for each.\n",
    "One of the regions has a race condition, which you should address with what we learned in [2f-OpenMP_reductions_atomics_mutexes](./../2f-OpenMP_reductions_atomics_mutexes/Reductions_atomics_and_mutexes_in_C.ipynb).\n",
    "Notice that `compute()` is called from within one of the regions, and remember what we learned earlier regarding the `declare target` clause.\n",
    "\n",
    "You can use the code cell above to compile and run your code as you modify it.\n",
    "After porting the code, you can compare your results with the solutions we have provided below.\n",
    "The managed memory solution can be found in `1_device_routine_usm`, and the unmanaged memory solution in `2_device_routine_map`."
   ]
  },
  {
   "cell_type": "code",
   "execution_count": null,
   "id": "1c4d5284-4b57-456a-85ac-74af2b40442e",
   "metadata": {},
   "outputs": [],
   "source": [
    "cd $HOME/DiRAC-AMD-GPU/notebooks/02-OpenMP/2g-OpenMP_device_subroutines/C/1_device_routine/1_device_routine_usm \n",
    "make clean\n",
    "make\n",
    "export HSA_XNACK=1\n",
    "./device_routine"
   ]
  },
  {
   "cell_type": "code",
   "execution_count": null,
   "id": "7e44c515-0c2e-4823-b716-c18f223f413e",
   "metadata": {},
   "outputs": [],
   "source": [
    "cd $HOME/DiRAC-AMD-GPU/notebooks/02-OpenMP/2g-OpenMP_device_subroutines/C/1_device_routine/2_device_routine_map\n",
    "make clean\n",
    "make\n",
    "export HSA_XNACK=0\n",
    "./device_routine"
   ]
  },
  {
   "cell_type": "markdown",
   "id": "ff784869-8b74-44ba-bcd4-eef28cd6bb73",
   "metadata": {},
   "source": [
    "## Device global data\n",
    "\n",
    "In many applications, it is common to have global data containing constants and variables we wish to share with many function throughout the code base.\n",
    "The `declare target` clause also allows us to declare data on the target device, such that these global variables will remain on the device and be accessible to the device code there.\n",
    "We will explore this use of the `declare target` clause in the next example, in the `2_device_routine_wglobaldata/0_device_routine_wglobaldata_portyourself` directory.\n",
    "Let's move to that directory, make sure it is clean, and inspect the contents now:"
   ]
  },
  {
   "cell_type": "code",
   "execution_count": null,
   "id": "62dbcaa2-85d6-48fd-b4ac-f688a507d7a5",
   "metadata": {},
   "outputs": [],
   "source": [
    "cd $HOME/DiRAC-AMD-GPU/notebooks/02-OpenMP/2g-OpenMP_device_subroutines/C/2_device_routine_wglobaldata/0_device_routine_wglobaldata_portyourself\n",
    "make clean\n",
    "ls"
   ]
  },
  {
   "cell_type": "markdown",
   "id": "945d86d1-0e01-4349-bd96-9d739122a5c7",
   "metadata": {},
   "source": [
    "In addition to the familiar [`compute.c`](./C/2_device_routine_wglobaldata/0_device_routine_wglobaldata_portyourself/compute.c) and [`device_routine.c`](./C/2_device_routine_wglobaldata/0_device_routine_wglobaldata_portyourself/device_routine.c), this directory contains an additional file, [`global_data.c`](./C/2_device_routine_wglobaldata/0_device_routine_wglobaldata_portyourself/global_data.c), with the definition of the `constants` array.\n",
    "Lets compile and run the serial CPU version, so we know what to expect from our own ported code later:"
   ]
  },
  {
   "cell_type": "code",
   "execution_count": null,
   "id": "eee562fd-cf0f-42ee-8747-3ce845d2d9ee",
   "metadata": {},
   "outputs": [],
   "source": [
    "make device_routine\n",
    "./device_routine"
   ]
  },
  {
   "cell_type": "markdown",
   "id": "2bbbbcf9-fdb2-4e79-a401-be67ed2d67dc",
   "metadata": {},
   "source": [
    "Note that the result is different from the previous example.\n",
    "Looking at the `compute()` function, we can see why - the sum includes an additional term the global `constants` array.\n",
    "To port the code to the GPU, in addition to the steps taken for the previous example, you will also have to add the OpenMP `declare target` around both the constants array in [`global_data.c`](./C/2_device_routine_wglobaldata/0_device_routine_wglobaldata_portyourself/global_data.c), and the extern declaration in [`compute.c`](./C/2_device_routine_wglobaldata/0_device_routine_wglobaldata_portyourself/compute.c).\n",
    "\n",
    "You can use the code cell above to compile and run your code as you modify it.\n",
    "After porting the code, you can compare your results with the solutions in `1_device_routine_wglobaldata`."
   ]
  },
  {
   "cell_type": "code",
   "execution_count": null,
   "id": "5c1ac0b8-bf5f-4350-8a23-ea59cba6ee3a",
   "metadata": {},
   "outputs": [],
   "source": [
    "cd $HOME/DiRAC-AMD-GPU/notebooks/02-OpenMP/2g-OpenMP_device_subroutines/C/2_device_routine_wglobaldata/1_device_routine_wglobaldata\n",
    "make clean\n",
    "make\n",
    "./device_routine"
   ]
  },
  {
   "cell_type": "markdown",
   "id": "0d6fed29-1564-4647-b57e-e052afc86bb4",
   "metadata": {},
   "source": [
    "## Device dynamic global data\n",
    "\n",
    "The final example we will explore utilises dynamic global data, and can be found in the `3_device_routine_wdynglobaldata/0_device_routine_wdynglobaldata_portyourself` directory."
   ]
  },
  {
   "cell_type": "code",
   "execution_count": null,
   "id": "484310bd-9cc0-42cd-8c67-dd14a55c365d",
   "metadata": {},
   "outputs": [],
   "source": [
    "cd $HOME/DiRAC-AMD-GPU/notebooks/02-OpenMP/2g-OpenMP_device_subroutines/C/3_device_routine_wdynglobaldata/0_device_routine_wdynglobaldata_portyourself\n",
    "make clean\n",
    "ls"
   ]
  },
  {
   "cell_type": "markdown",
   "id": "8d2fb338-5322-4872-9b76-1976322cf56e",
   "metadata": {},
   "source": [
    "This example has the same file structure as the previous static global data example.\n",
    "The computations carried out in [`compute.c`](./C/3_device_routine_wdynglobaldata/0_device_routine_wdynglobaldata_portyourself/compute.c) and [`device_routine.c`](./C/3_device_routine_wdynglobaldata/0_device_routine_wdynglobaldata_portyourself/device_routine.c) are identical, but there are some changes to the format of the global data.\n",
    "If you inspect [`global_data.c`](./C/3_device_routine_wdynglobaldata/0_device_routine_wdynglobaldata_portyourself/global_data.c), you will notice that instead of a statically allocated array, `constants` is now dynamically allocated to the size `isize`, with elements filled at definition.\n",
    "This definition is then carried out in [`device_routine.c`](./C/3_device_routine_wdynglobaldata/0_device_routine_wdynglobaldata_portyourself/device_routine.c).\n",
    "\n",
    "Take some time to study and understand the code, before compiling and running it in its native CPU form below:"
   ]
  },
  {
   "cell_type": "code",
   "execution_count": null,
   "id": "e832b426-b9b3-420f-961c-4c56f93acb69",
   "metadata": {},
   "outputs": [],
   "source": [
    "make\n",
    "./device_routine"
   ]
  },
  {
   "cell_type": "markdown",
   "id": "be186805-552c-4619-8062-91a997876d03",
   "metadata": {},
   "source": [
    "Let's port this code to GPU now.\n",
    "As well as the previous steps, we now also need to move the dynamically allocated `constants` array to the device.\n",
    "Remember that the copy should be done only **after** it is allocated and any changes have been applied to it on the CPU.\n",
    "\n",
    "You can use the code cell above to compile and run your code as you modify it.\n",
    "After porting the code, you can compare your results with the solutions in `1_device_routine_wdynglobaldata`."
   ]
  },
  {
   "cell_type": "code",
   "execution_count": null,
   "id": "3aaccdbe-942c-4e65-956e-762f56439dcc",
   "metadata": {},
   "outputs": [],
   "source": [
    "cd $HOME/DiRAC-AMD-GPU/notebooks/02-OpenMP/2g-OpenMP_device_subroutines/C/3_device_routine_wdynglobaldata/1_device_routine_wdynglobaldata\n",
    "make clean\n",
    "make\n",
    "./device_routine"
   ]
  },
  {
   "cell_type": "markdown",
   "id": "f1bc5b72-0834-4433-ace6-29434acc7829",
   "metadata": {},
   "source": [
    "Now that you have successfully ported the `device_routine` C code to run on the GPU, you can experiment with making the loops and `isize` larger, change the logic in `compute()` to be more complex, and try different pragmas to study their effect.\n",
    "For C++-specific function offloading (i.e. class member functions, external and virtual member functions), see the associated [CXX.ipynb](./CXX.ipynb) notebook in this section.\n",
    "\n",
    "Throughout this section of the course, we've learnt the fundamentals of OpenMP, and how they can help you run performant code on an AMD GPU or APU.\n",
    "You should now be equipped to start porting your own code to such architectures.\n",
    "\n",
    "There follow two optional sections on OpenMP optimisations, and interoperability with HIP.\n",
    "Feel free to go through them if they sound interesting or useful to you or your work, or continue on to the next section of this course, looking at the HIP programming model, and how dedicated kernels can be used to improve the performance of your code."
   ]
  }
 ],
 "metadata": {
  "kernelspec": {
   "display_name": "NI200",
   "language": "bash",
   "name": "ni200"
  },
  "language_info": {
   "codemirror_mode": "shell",
   "file_extension": ".sh",
   "mimetype": "text/x-sh",
   "name": "bash"
  }
 },
 "nbformat": 4,
 "nbformat_minor": 5
}
