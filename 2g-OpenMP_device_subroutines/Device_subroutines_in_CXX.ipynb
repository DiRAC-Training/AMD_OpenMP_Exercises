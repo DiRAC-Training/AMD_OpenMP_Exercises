{
 "cells": [
  {
   "cell_type": "markdown",
   "id": "23aebe79-bf0f-424d-a056-204fbe23dcc1",
   "metadata": {},
   "source": [
    "# Device functions and subroutines in C++\n",
    "\n",
    "Until now, we have focused on how to offload data or particular calculations to the GPU.\n",
    "In most real software applications, however, we will want to pass data through a pipeline of multiple functions and routines before completion.\n",
    "In this notebook, we will learn how to call functions to run on the device from within existing target regions.\n",
    "In so doing, we will combine many of the things we have learned up to this point, and let you try porting some code to the GPU using OpenMP yourself.\n",
    "\n",
    "In the [C.ipynb](./C.ipynb) notebook, we learn about the `declare target` clause that allows us to offload specific functions to the device.\n",
    "This notebook will look at three further offloading approaches unique to C++; member functions; external functions; and virtual functions.\n",
    "As such, it is recommended that you work through that previous notebook first before beginning this one.\n",
    "\n",
    "But first, let's conduct our usual environment checks and move into the C++ direcrtory for this exercise:"
   ]
  },
  {
   "cell_type": "code",
   "execution_count": null,
   "id": "d6493358-4a05-43de-89ce-52f23f0da517",
   "metadata": {},
   "outputs": [],
   "source": [
    "rocm-smi\n",
    "cd $HOME/DiRAC-AMD-GPU/notebooks/02-OpenMP/2g-OpenMP_device_subroutines/CXX"
   ]
  },
  {
   "cell_type": "markdown",
   "id": "714353e0-c1bc-4029-a586-8153edf17e0b",
   "metadata": {},
   "source": [
    "## C++ member functions\n",
    "\n",
    "A member function is a function that is declared as part of a class.\n",
    "Our first example will look at such a function, and how we can offload it to the device.\n",
    "The example is found in the `1_member_function/0_member_function_portyourself/` directory - let's look at what's there:"
   ]
  },
  {
   "cell_type": "code",
   "execution_count": null,
   "id": "844134f0-8721-4c9d-96f7-fdccc6fe1ac8",
   "metadata": {},
   "outputs": [],
   "source": [
    "cd $HOME/DiRAC-AMD-GPU/notebooks/02-OpenMP/2g-OpenMP_device_subroutines/CXX/1_member_function/0_member_function_portyourself\n",
    "make clean\n",
    "ls"
   ]
  },
  {
   "cell_type": "markdown",
   "id": "510409b9-d962-4094-827c-a435e7102112",
   "metadata": {},
   "source": [
    "The directory contains two source code files; [`bigscience.cc`](./CXX/1_member_function/0_member_function_portyourself/bigscience.cc) - where `main` is implemented - and [`Science.hh`](./CXX/1_member_function/0_member_function_portyourself/Science.hh), where the `Science` class is defined and its `compute()` **member function** is implemented.\n",
    "Inspect and understand the code, then compile and run it to understand the baseline CPU behaviour:"
   ]
  },
  {
   "cell_type": "code",
   "execution_count": null,
   "id": "57e2a22b-ca71-4137-9ef2-575663a31693",
   "metadata": {},
   "outputs": [],
   "source": [
    "make clean\n",
    "make\n",
    "./bigscience"
   ]
  },
  {
   "cell_type": "markdown",
   "id": "80d83386-98bd-4a73-9a9f-8890b35b95fd",
   "metadata": {},
   "source": [
    "Try adding the `#pragma omp target teams loop` directive to the loop in the bigscience.cc routine to port it to run on the device.\n",
    "Note that because the `compute()` function is **implemented in the [`Science.hh`](./CXX/1_member_function/0_member_function_portyourself/Science.hh) header**, it will be compiled *inline*.\n",
    "This means it will already be in the target region, and no further work is needed to port it to the device.\n",
    "\n",
    "You can choose to either use unified shared memory - which was covered in [2e-OpenMP_managed_memory](./../2e-OpenMP_managed_memory/Managed_memory_in_C.ipynb) - in which case you must enable `HSA_XNACK`, or use unmanaged memory - as covered in [2d-OpenMP_explicit_memory_directive](./../2d-OpenMP_explicit_memory_directive/Explicit_memory_management_in_C.ipynb) - by adding an appropriate `map` clause to the directive.\n",
    "\n",
    "You can use the code block above to compile and run your edited code.\n",
    "After porting the code, you can compare your results with the solutions in `1_member_function/` if using unified shared memory, and `2_member_function_map/` if using unmanaged explicit memory movement."
   ]
  },
  {
   "cell_type": "code",
   "execution_count": null,
   "id": "14ccd35b-dcac-4c65-a2a3-8ca7e3f752a6",
   "metadata": {},
   "outputs": [],
   "source": [
    "cd $HOME/DiRAC-AMD-GPU/notebooks/02-OpenMP/2g-OpenMP_device_subroutines/CXX/1_member_function/1_member_function\n",
    "make clean\n",
    "make\n",
    "export HSA_XNACK=1\n",
    "./bigscience"
   ]
  },
  {
   "cell_type": "code",
   "execution_count": null,
   "id": "2c75241c-5403-495e-a474-39b9da6cf0ca",
   "metadata": {},
   "outputs": [],
   "source": [
    "cd $HOME/DiRAC-AMD-GPU/notebooks/02-OpenMP/2g-OpenMP_device_subroutines/CXX/1_member_function/2_member_function_map\n",
    "make clean\n",
    "make\n",
    "export HSA_XNACK=0\n",
    "./bigscience"
   ]
  },
  {
   "cell_type": "markdown",
   "id": "d74f395e-c24a-45c6-b48c-e53f370e232e",
   "metadata": {},
   "source": [
    "## External member function\n",
    "\n",
    "This approach works well when our member function is defined **and** implemented in the header file, since it will be compiled inline.\n",
    "But what happens when we **declare** a member function in the header, but **implement** it in a separate source code file?\n",
    "\n",
    "Our second example - in the `2_member_function_external/0_member_function_external_portyourself/` directory - will address this.\n",
    "Let's look at the contents of the directory:"
   ]
  },
  {
   "cell_type": "code",
   "execution_count": null,
   "id": "57cb7c95-a14c-4f3f-a5e6-005f5e824697",
   "metadata": {},
   "outputs": [],
   "source": [
    "cd $HOME/DiRAC-AMD-GPU/notebooks/02-OpenMP/2g-OpenMP_device_subroutines/CXX/2_member_function_external/0_member_function_external_portyourself\n",
    "make clean\n",
    "ls"
   ]
  },
  {
   "cell_type": "markdown",
   "id": "5607b446-ae26-4392-ac0d-5b68e08d951c",
   "metadata": {},
   "source": [
    "As with the previous example, there is the [`bigscience.cc`](CXX/2_member_function_external/0_member_function_external_portyourself/bigscience.cc) file with the `main()` definition, and [`Science.hh`](CXX/2_member_function_external/0_member_function_external_portyourself/Science.hh) with the `Science` class (and `compute()` member function) **definition**.\n",
    "There is now, however, also an additional file - [`Science_member_functions.cc`](CXX/2_member_function_external/0_member_function_external_portyourself/Science_member_functions.cc).\n",
    "This file contains the member function **implementation** for the `compute()` function, meaning it now an external implementation.\n",
    "\n",
    "Only the structure of the code has changed since the previous example, so we already know what to expect when running.\n",
    "Let's go ahead and try porting the code now, again choosing either unified shared memory or unmanaged memory.\n",
    "Remember that in addition to the changes we made in the previous example, we will now also need to add a `#pragma omp declare target` directive to the external member function (as discussed in [C.ipynb](./C.ipynb)).\n",
    "\n",
    "You can use the code cell below to compile and run your code as you modify it.  After porting the code, you can compare your results with the solutions.\n",
    "The unified shared memory solution is provided in `1_member_function_external/`, and the solution using an unstructred memory region in `2_member_function_external_data/`.\n",
    "Note that we could use a simple explicit memory movement as in the previous example."
   ]
  },
  {
   "cell_type": "code",
   "execution_count": null,
   "id": "dfb97030-c35a-4685-988e-e58376714601",
   "metadata": {},
   "outputs": [],
   "source": [
    "make clean\n",
    "make\n",
    "./bigscience"
   ]
  },
  {
   "cell_type": "code",
   "execution_count": null,
   "id": "80debe91-f2df-4a7b-9aaf-00d5ad0f1c0a",
   "metadata": {},
   "outputs": [],
   "source": [
    "cd $HOME/DiRAC-AMD-GPU/notebooks/02-OpenMP/2g-OpenMP_device_subroutines/CXX/2_member_function_external/1_member_function_external\n",
    "make clean\n",
    "make\n",
    "export HSA_XNACK=1\n",
    "./bigscience"
   ]
  },
  {
   "cell_type": "code",
   "execution_count": null,
   "id": "334548cb-7c97-4981-9adf-1f2d7bfd5d99",
   "metadata": {},
   "outputs": [],
   "source": [
    "cd $HOME/DiRAC-AMD-GPU/notebooks/02-OpenMP/2g-OpenMP_device_subroutines/CXX/2_member_function_external/2_member_function_external_data\n",
    "make clean\n",
    "make\n",
    "export HSA_XNACK=0\n",
    "./bigscience"
   ]
  },
  {
   "cell_type": "markdown",
   "id": "bcf0b1ea-d864-4c5c-969c-aa4b7fc3b685",
   "metadata": {},
   "source": [
    "## Virtual methods"
   ]
  },
  {
   "cell_type": "markdown",
   "id": "ec9f9ec5-f75c-477c-9f1a-5c6730f233b2",
   "metadata": {},
   "source": [
    "Our final exercise extends the previous examples with the of use virtual functions. \n",
    "Polymorphism aad inheritance are intrinsic aspects of C++, and OpenMP has been written to accomodate this.\n",
    "This example is contained in the `3_virtual_methods/0_virtual_methods_portyourself/` directory - let's navigate to it and take a look at what's there:"
   ]
  },
  {
   "cell_type": "code",
   "execution_count": null,
   "id": "0965a208-9a64-40fc-b57e-2d752547b772",
   "metadata": {},
   "outputs": [],
   "source": [
    "cd $HOME/DiRAC-AMD-GPU/notebooks/02-OpenMP/2g-OpenMP_device_subroutines/CXX/3_virtual_methods/0_virtual_methods_portyourself\n",
    "make clean\n",
    "ls"
   ]
  },
  {
   "cell_type": "markdown",
   "id": "59ad7eeb-ad73-4bae-b672-2af5cb80728c",
   "metadata": {},
   "source": [
    "We now have 4 files;\n",
    " - The familiar [`bigscience.cc`](./CXX/3_virtual_methods/0_virtual_methods_portyourself/bigscience.cc) where `main` is implemented,\n",
    " - [`Science.hh`](./CXX/3_virtual_methods/0_virtual_methods_portyourself/Science.hh) where the `Science` class is defined, now containing a **virtual function declaration** for the `compute()` function,\n",
    " - A new file [`HotScience.hh`](./CXX/3_virtual_methods/0_virtual_methods_portyourself/HotScience.hh) that contains the definition of the `HotScience` class, which inherits from `Science` and defines its own instance of the `compute()` function,\n",
    " - and [`HotScience_member_functions.cc`](./CXX/3_virtual_methods/0_virtual_methods_portyourself/HotScience_member_functions.cc) where the `compute()` member function for the `HotScience` class is **implemented**.\n",
    "\n",
    "You might notice that there has been a minor change in the `compute()` function implementation, so let's compile the code and see the results:"
   ]
  },
  {
   "cell_type": "code",
   "execution_count": null,
   "id": "ee236325-ed18-4154-991c-f0b7f71b6eea",
   "metadata": {},
   "outputs": [],
   "source": [
    "make clean\n",
    "make\n",
    "./bigscience"
   ]
  },
  {
   "cell_type": "markdown",
   "id": "c1a992da-ea0b-409e-9237-7f8a7e21599e",
   "metadata": {},
   "source": [
    "Now we can try porting the code, again choosing our prefered memory model.\n",
    "To note; for virtual functions, only the implementation requries the `#pragma omp declare target` directive; no changes should be necessary in any header file.\n",
    "You can use the code block above to compile and run the code as you make your modifications.\n",
    "\n",
    "After porting the code, you can compare your results with the model solutions below. \n",
    "The unified shared memory solution is provided in `1_virtual_methods/`, and the solution using managed explicit memory manegment in `2_virtual_methods_map/`.\n",
    "Note that we could also use an unstructred memory region as in the previous example.\n",
    "Remember, your choice depends on if you need to reuse the memory in other parts of the code.\n",
    "You can review sections [2d-OpenMP_explicit_memory_directive](./../2d-OpenMP_explicit_memory_directive/Explicit_memory_management_in_C.ipynb) and [2e-OpenMP_managed_memory](./../2e-OpenMP_managed_memory/Managed_memory_in_C.ipynb) for more insights into memory model considerations."
   ]
  },
  {
   "cell_type": "code",
   "execution_count": null,
   "id": "d17fbf0e-436c-49ef-a861-ed5c18a0c23d",
   "metadata": {},
   "outputs": [],
   "source": [
    "cd $HOME/DiRAC-AMD-GPU/notebooks/02-OpenMP/2g-OpenMP_device_subroutines/CXX/3_virtual_methods/1_virtual_methods\n",
    "make clean\n",
    "make\n",
    "export HSA_XNACK=1\n",
    "./bigscience"
   ]
  },
  {
   "cell_type": "code",
   "execution_count": null,
   "id": "07822457-1a12-45fc-ae97-eb6028850f70",
   "metadata": {},
   "outputs": [],
   "source": [
    "cd $HOME/DiRAC-AMD-GPU/notebooks/02-OpenMP/2g-OpenMP_device_subroutines/CXX/3_virtual_methods/2_virtual_methods_map\n",
    "make clean\n",
    "make\n",
    "export HSA_XNACK=0\n",
    "./bigscience"
   ]
  },
  {
   "cell_type": "markdown",
   "id": "45639f74-dd27-416a-ac01-fd56b1d7b7e9",
   "metadata": {},
   "source": [
    "Now that you have successfully ported inline, external and virtual member functions to run on the GPU, you can experiment with making the loops larger, changing the logic in `compute()` to be more complex, and testing different memory models.\n",
    "\n",
    "Throughout this section of the course, we've learnt the fundamentals of OpenMP, and how they can help you run performant code on an AMD GPU or APU.\n",
    "You should now be equipped to start porting your own code to such architectures.\n",
    "\n",
    "There follow two optional sections on OpenMP optimisations, and interoperability with HIP.\n",
    "Feel free to go through them if they sound interesting or useful to you or your work, or continue on to the next section of this course, looking at the HIP programming model, and how dedicated kernels can be used to improve the performance of your code."
   ]
  }
 ],
 "metadata": {
  "kernelspec": {
   "display_name": "NI200",
   "language": "bash",
   "name": "ni200"
  },
  "language_info": {
   "codemirror_mode": "shell",
   "file_extension": ".sh",
   "mimetype": "text/x-sh",
   "name": "bash"
  }
 },
 "nbformat": 4,
 "nbformat_minor": 5
}
