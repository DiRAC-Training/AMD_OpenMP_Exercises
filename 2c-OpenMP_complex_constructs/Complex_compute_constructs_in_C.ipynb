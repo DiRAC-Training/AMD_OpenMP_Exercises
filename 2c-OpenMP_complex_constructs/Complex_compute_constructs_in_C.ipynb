{
 "cells": [
  {
   "cell_type": "markdown",
   "id": "d1587b54-dd3d-4ee8-be18-366dedd11a04",
   "metadata": {},
   "source": [
    "# OpenMP complex compute constructs\n",
    "\n",
    "In the previous section's exercises on simple single line compute constructs, we made extensive use of the combined compute directive `#pragma omp target teams distribute parallel for`.\n",
    "At the time, we discussed briefly what each clause in this directive was doing, and in this notebook we will explore what happens if we break apart this instruction and combine the clauses in different ways.\n",
    "We will then investigate how different approaches to parallelising nested loops impacts the performance of the code.\n",
    "\n",
    "Let us begin by checking that we have an appropriate GPU to run our code on using the `rocm-smi`, moving into our work directory and making sure that our work environment is clean."
   ]
  },
  {
   "cell_type": "code",
   "execution_count": null,
   "id": "92c11177-c5d4-4dfd-a065-50a1298902bc",
   "metadata": {},
   "outputs": [],
   "source": [
    "rocm-smi\n",
    "cd $HOME/DiRAC-AMD-GPU/notebooks/02-OpenMP/2c-OpenMP_complex_constructs/C\n",
    "make clean"
   ]
  },
  {
   "cell_type": "markdown",
   "id": "821b73ae-1df0-4551-b712-41e8f731b3eb",
   "metadata": {},
   "source": [
    "We want the operating system to be able to automatically handle the movement of data and control between the host and the device, so we will set the `HSA_XNACK` variable to 1.\n",
    "For these exercises, we want to see what the implementation is doing for each compute directive.\n",
    "We can do this by setting the `LIBOMPTARGET_KERNEL_TRACE` environment to 1.\n",
    "As the name suggests, this will print a trace for each OpenMP kernel encountered during runtime, and will give us information on the details of the execution.\n",
    "We will see this in action soon - for now, let's set those variables."
   ]
  },
  {
   "cell_type": "code",
   "execution_count": null,
   "id": "4d1019a3-e628-4e96-a6de-543e8013d0f5",
   "metadata": {},
   "outputs": [],
   "source": [
    "export HSA_XNACK=1\n",
    "export LIBOMPTARGET_KERNEL_TRACE=1"
   ]
  },
  {
   "cell_type": "markdown",
   "id": "35caa865-7c72-464c-a7a8-bfa49a2135e9",
   "metadata": {},
   "source": [
    "## Breaking down compute constructs\n",
    "\n",
    "Firstly, let's return to the full directive.\n",
    "The code in [`saxpy_gpu_parallelfor.c`](./C/saxpy_gpu_parallelfor.c) is the same as that in the previous notebook - that is to say, a simple saxpy code offloaded to the GPU using the `#pragma omp target teams distribute parallel for` directive.\n",
    "\n",
    "Let's build and run it, and then we can break down the outputs:"
   ]
  },
  {
   "cell_type": "code",
   "execution_count": null,
   "id": "ffaddfcf-f436-4958-a3c4-268b9bb6816a",
   "metadata": {},
   "outputs": [],
   "source": [
    "make saxpy_gpu_parallelfor\n",
    "./saxpy_gpu_parallelfor"
   ]
  },
  {
   "cell_type": "markdown",
   "id": "f58971f8-d48c-4eec-8bc9-4fbfc866febe",
   "metadata": {},
   "source": [
    "There is a lot of information here.\n",
    "Let's break down the important outputs here:\n",
    " - **DEVID** - the ID of the device  the kernel is running on,\n",
    " - **teamsXthrds** - the number of teams generated, and how many threads are within each team,\n",
    " - **sgpr_count** - the number of scalar registers required by a wavefront,\n",
    " - **vgpr_count** - the number of vector registers required by each work-item.\n",
    "\n",
    "For the full combined directive, we see that 416 teams are generated with 256 threads each.\n",
    "There is a low vector register usage of 8.\n",
    "Bear in mind also the time this kernel took to run - which should be of order 0.075 seconds - as we will use this as a comparison metric as well."
   ]
  },
  {
   "cell_type": "markdown",
   "id": "1931bd5c-a8cf-406b-98ff-4a91fb30a291",
   "metadata": {},
   "source": [
    "### The target directive\n",
    "\n",
    "Let's start by looking at the `target` directive itself.\n",
    "In the example code [`saxpy_gpu_target.c`](./C/saxpy_gpu_target.c), we use the target directive with no additional clauses.\n",
    "Let's see this directive as it is in the code:"
   ]
  },
  {
   "cell_type": "code",
   "execution_count": null,
   "id": "c02b9d80-2c53-498d-b35b-52c3ec903ef6",
   "metadata": {},
   "outputs": [],
   "source": [
    "grep \"pragma\" saxpy_gpu_target.c"
   ]
  },
  {
   "cell_type": "markdown",
   "id": "34442e2c-7c9b-4965-9ebc-cc072f8e3002",
   "metadata": {},
   "source": [
    "The target directive instructs the compiler to offload the enclosed code to the device.\n",
    "In our example, this is the subsequent saxpy `for` loop.\n",
    "With no further instructions or tips given to the compiler on what the code might be doing or how we might want it to run, let's find out how well it can handle the loop for itself:"
   ]
  },
  {
   "cell_type": "code",
   "execution_count": null,
   "id": "20cd9e1d-7b5c-469d-a3d4-73f45f575b04",
   "metadata": {},
   "outputs": [],
   "source": [
    "make saxpy_gpu_target\n",
    "./saxpy_gpu_target"
   ]
  },
  {
   "cell_type": "markdown",
   "id": "09548782-d7f1-4d23-abca-a43ba5d57025",
   "metadata": {},
   "source": [
    "Whilst we have successfully offloaded the code the target device, we can see that we have only created a single working group of 256 threads.\n",
    "In this configuration, there is little point to using the GPU at all, a fact that is borne out by a run time almost two orders of magnitude larger than our original baseline run.\n",
    "We are effectively running the code in serial.\n",
    "\n",
    "But of course without adding in any parallelisation instructions to the `target` directive, we should have expected this.\n",
    "Let's look at what happens if we now spawn a number of parallel processes, but give them no further directions."
   ]
  },
  {
   "cell_type": "markdown",
   "id": "ae69f20d-c5cc-4b9b-a266-b7560964ec11",
   "metadata": {},
   "source": [
    "### The teams clause\n",
    "\n",
    "In the example code [`saxpy_gpu_target_teams.c`](./C/saxpy_gpu_target_teams.c), we have added the `teams` clause to the `target` directive.\n",
    "Let's see the current pragma now:"
   ]
  },
  {
   "cell_type": "code",
   "execution_count": null,
   "id": "bae56bcf-37d2-4e43-bebe-184dbce9fe21",
   "metadata": {},
   "outputs": [],
   "source": [
    "grep \"pragma\" saxpy_gpu_target_teams.c"
   ]
  },
  {
   "cell_type": "markdown",
   "id": "df0fef9f-484c-4168-85f2-4fd677995efe",
   "metadata": {},
   "source": [
    "The `teams` clause instructs the pragma to create a \"league of teams\".\n",
    "The initial thread of each team executes the code region with all of the data on each thread.\n",
    "Let's see how the target teams instruction handles our loop:"
   ]
  },
  {
   "cell_type": "code",
   "execution_count": null,
   "id": "a10ed89b-7219-45e7-835d-5c8d76fc9c12",
   "metadata": {},
   "outputs": [],
   "source": [
    "make saxpy_gpu_target_teams\n",
    "./saxpy_gpu_target_teams"
   ]
  },
  {
   "cell_type": "markdown",
   "id": "a0550f30-7559-40bc-8a02-a8333da6f289",
   "metadata": {},
   "source": [
    "We've successfully offloaded the code, and created a set of 624 teams to run the code, but we've still ended up with a significantly longer run time.\n",
    "So what is going on here?\n",
    "\n",
    "The answer is that although we've created a set of teams to run our loop, and they are indeed doing so in parallel.\n",
    "But without any instructions that the loop can be split up in any way, each team ends up running the entire loop itself!\n",
    "\n",
    "You may also notice that the results we get out from the loop are not the expected values of `y[0] 4.000000` and `y[N-1] 4.000000`.\n",
    "This is because each team is running using the same arrays, with no atomic protection.\n",
    "This leads to race conditions and array elements being added and written in ways in which they were not intended.\n",
    "\n",
    "Let's look now at letting the teams share the work properly."
   ]
  },
  {
   "cell_type": "markdown",
   "id": "03a8c1f1-1494-4c82-9f78-c566f7af3454",
   "metadata": {},
   "source": [
    "### The distribute clause\n",
    "\n",
    "The code [`saxpy_gpu_target_teams_distribute.c`](./C/saxpy_gpu_target_teams_distribute.c) adds the `distribute` clause to the `target` directive. The pragma now looks like:"
   ]
  },
  {
   "cell_type": "code",
   "execution_count": null,
   "id": "8a63e45a-fc9c-476f-910c-d7cea16ce66e",
   "metadata": {},
   "outputs": [],
   "source": [
    "grep \"pragma\" saxpy_gpu_target_teams_distribute.c"
   ]
  },
  {
   "cell_type": "markdown",
   "id": "a9399fe3-4fda-48df-8398-3804d2c5ef1e",
   "metadata": {},
   "source": [
    "The `distribute` clause splits up loop iterations across available teams, and executes them on the main thread.\n",
    "This should solve both problems we had in the previous example by properly atomising the running of the code.\n",
    "Let's see it in action now:"
   ]
  },
  {
   "cell_type": "code",
   "execution_count": null,
   "id": "e2f5c217-bf8b-4960-aa31-813e49261044",
   "metadata": {},
   "outputs": [],
   "source": [
    "make saxpy_gpu_target_teams_distribute\n",
    "./saxpy_gpu_target_teams_distribute"
   ]
  },
  {
   "cell_type": "markdown",
   "id": "908b476a-90eb-4041-8aff-fc6b91e5316c",
   "metadata": {},
   "source": [
    "Success!\n",
    "Even without the `parallel for` clause, we are now approaching the same speed as our baseline with the full directive.\n",
    "Interestingly, we have more teams in this example than the baseline - 624 compared to 416 - but not all threads are being used.\n",
    "\n",
    "Try changing the array size in the example, or replacing the kernel with something with more work, and see how the run time and load changes."
   ]
  },
  {
   "cell_type": "markdown",
   "id": "45c4e787-31af-4346-be90-f434a23f49c0",
   "metadata": {},
   "source": [
    "### Parallel for without a teams distribute clause\n",
    "\n",
    "As a final experiment, let's see what happens if we include the `parallel for` clause in our `target` directive without the `teams distribute` clauses.\n",
    "The example [`saxpy_gpu_target_parallel_for.c`](./C/saxpy_gpu_target_parallel_for.c) has this already set up for us."
   ]
  },
  {
   "cell_type": "code",
   "execution_count": null,
   "id": "1f35ae00-2d11-4172-901a-2c5dea2a52fa",
   "metadata": {},
   "outputs": [],
   "source": [
    "make saxpy_gpu_target_parallel_for\n",
    "./saxpy_gpu_target_parallel_for"
   ]
  },
  {
   "cell_type": "markdown",
   "id": "78a13dcb-8b75-42b1-a821-72c048f00671",
   "metadata": {},
   "source": [
    "As expected, no additional teams have been created, but we still see a run time approaching that of the original baseline case.\n",
    "The `parallel` clause creates multiple threads within a team, and the `for` clause spreads out the work between these threads.\n",
    "So even without a high teams count, the `parallel for` clause can give very good performance.\n",
    "This can be used to run efficiently with fewer GPU compute units."
   ]
  },
  {
   "cell_type": "markdown",
   "id": "9f79d63f-a7ee-4c50-9444-878e902afc11",
   "metadata": {},
   "source": [
    "## Exploring the split level directives\n",
    "\n",
    "Finally in this notebook, let's look at different approaches to offloading nested `for` loops to the GPU.\n",
    "\n",
    "[`saxpy_gpu_collapse.c`](./C/saxpy_gpu_collapse.c) contains a nested `for` loop parallelised using the `collapse` directive discussed in the previous notebook.\n",
    "The code of interest is the loop itself:\n",
    "\n",
    "```C\n",
    "#pragma omp target teams distribute parallel for collapse(2)\n",
    "for (int j = 0; j < N; j++) {\n",
    "   for (int i = 0; i < M; i++) {\n",
    "      y[j][i] = a * x[j][i] + y[j][i];\n",
    "   }\n",
    "}\n",
    "```\n",
    "\n",
    "As we previously discussed, the `collapse(2)` clause asks the compiler to collapse the 2 subsequent loops into a single one that can be distributed out amongst the GPU computer.\n",
    "\n",
    "But now that we've tested the various clauses of this directive, can we not think of another way of splitting this code on the GPU?\n",
    "Could we not envisage each iteration of the first loop running its own second loop independently, hopefully also in parallel?\n",
    "\n",
    "The example code [`saxpy_gpu_split_level.c`](./C/saxpy_gpu_split_level.c) does exactly that in its revised version of the nest `for` loops:\n",
    "\n",
    "```C\n",
    "#pragma omp target teams distribute   \n",
    "for (int j = 0; j < N; j++) {         \n",
    "   #pragma omp parallel for simd      \n",
    "   for (int i = 0; i < M; i++) {      \n",
    "      y[j][i] = a * x[j][i] + y[j][i];\n",
    "   }                                  \n",
    "}                                     \n",
    "```\n",
    "\n",
    "Here we create a set of teams and distribute the first loop amongst them.\n",
    "Then the second loop is parallelised within each team.\n",
    "\n",
    "Which approach do you think will be faster?\n",
    "\n",
    "Let's run them both now and compare."
   ]
  },
  {
   "cell_type": "code",
   "execution_count": null,
   "id": "ffc03868-8710-4db6-bfa7-5a461f4fbb6e",
   "metadata": {},
   "outputs": [],
   "source": [
    "make saxpy_gpu_collapse\n",
    "./saxpy_gpu_collapse\n",
    "make saxpy_gpu_split_level\n",
    "./saxpy_gpu_split_level"
   ]
  },
  {
   "cell_type": "markdown",
   "id": "237bd967-064b-44d9-8060-5ab1ecf4670e",
   "metadata": {},
   "source": [
    "There is almost nothing to chose between the two in terms of run time, at least in their original configuration.\n",
    "We do see, however, that the collapse statement largely increases the number of teams created in the `target` directive - 3907 compared to 624.\n",
    "We are using the GPU compute resources efficiently with the split level approach.\n",
    "\n",
    "Try changing the size of the input arrays, and seeing how this impacts performance.\n",
    "\n",
    "You should notice that at larger sizes (say `N=10000,M=10000`), the split level directive begins running faster, whilst also keeping at a lower number of teams created.\n",
    "\n",
    "Now that we've explored the `target` directive and some of its many possible clauses and configurations, let's move on to memory management directives.\n",
    "In the next section, we will at explicit memory directive."
   ]
  }
 ],
 "metadata": {
  "kernelspec": {
   "display_name": "NI200",
   "language": "bash",
   "name": "ni200"
  },
  "language_info": {
   "codemirror_mode": "shell",
   "file_extension": ".sh",
   "mimetype": "text/x-sh",
   "name": "bash"
  }
 },
 "nbformat": 4,
 "nbformat_minor": 5
}
