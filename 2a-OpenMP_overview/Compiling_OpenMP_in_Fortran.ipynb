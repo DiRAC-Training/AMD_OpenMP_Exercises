{
 "cells": [
  {
   "cell_type": "markdown",
   "id": "dd12e327-cabd-43a0-876b-b6e08632821d",
   "metadata": {},
   "source": [
    "# Building OpenMP with make and cmake\n",
    "\n",
    "This notebook will demonstrate the use of `make` and `cmake` to compile Fortran code using OpenMP. \n",
    "First, let's check that we have an appropriate GPU to work on using the `rocm-smi` command.\n",
    "Then, we'll enter the source directory and make sure that our working environment is clean."
   ]
  },
  {
   "cell_type": "code",
   "execution_count": null,
   "id": "981ec629-f554-41f8-89ee-6cb70f7af7ef",
   "metadata": {},
   "outputs": [],
   "source": [
    "rocm-smi\n",
    "cd $HOME/DiRAC-AMD-GPU/notebooks/02-OpenMP/2a-OpenMP_overview/Fortran\n",
    "make clean"
   ]
  },
  {
   "cell_type": "markdown",
   "id": "1832b2bb-ad9f-44c5-9c97-8debfab8b69f",
   "metadata": {},
   "source": [
    "## The code\n",
    "\n",
    "The code we will be running is contained in the file [`openmp_code.F90`](./Fortran/openmp_code.F90).\n",
    "The source code is a version of that used in the OpenMP section of the notebook of the previous section 1b - i.e. moving the assignment and summation of an array to the GPU - ported to Fortran.\n",
    "\n",
    "We can see the OpenMP instructions in the code by looking at the `omp` statements in the code:"
   ]
  },
  {
   "cell_type": "code",
   "execution_count": null,
   "id": "2bfc3344-f001-4428-ae2c-8088fdcc89ce",
   "metadata": {},
   "outputs": [],
   "source": [
    "grep \"omp\" openmp_code.F90"
   ]
  },
  {
   "cell_type": "markdown",
   "id": "e49e080b-c9ef-4581-bef4-05bc33dc1455",
   "metadata": {},
   "source": [
    "We will learn what these are doing in greater detail later, but for now it is enough to know that they are providing OpenMP instructions to the compiler.\n",
    "\n",
    "Let's look at building these codes using `make`.\n",
    "\n",
    "## Building with `make`\n",
    " \n",
    "Firstly, let's look at the [`Makefile`](./Fortran/Makefile) in this directory that contains the instructions to build the code;"
   ]
  },
  {
   "cell_type": "code",
   "execution_count": null,
   "id": "c088b97d-642e-457d-8e46-a361deb106d2",
   "metadata": {},
   "outputs": [],
   "source": [
    "cat Makefile"
   ]
  },
  {
   "cell_type": "markdown",
   "id": "d7ddb788-ab05-4c25-8eb0-50f0f9dc37c5",
   "metadata": {},
   "source": [
    "Along with the usual `FFLAGS` and `LDFLAGS` variables that we would expect to see in a standard Makefile, we can see an additional `OPENMP_FLAGS` variable.\n",
    "This contains the flags necessary for the compiler to properly implement the OpenMP commands in our code.\n",
    "In particular, the `-fopenmp` is the flag that must be specified to enable OpenMP directives.\n",
    "\n",
    "The `--offload-arch=${ROCM_GPU}` option gives the compiler hints as to what architecture to target the compilation for, but is not strictly necessary to compile OpenMP code.\n",
    "`ROCM_GPU` is a string that denotes the GPUs architecture, and can be a comma-separated list if targetting multiple GPUs in the same compilation.\n",
    "The series of commands `$(strip $(shell rocminfo |grep -m 1 -E gfx[^0]{1} | sed -e 's/ *Name: *//'))` checks our current system for ROCm compatible GPUs, and finds this string.\n",
    "For the MI200s that we are using on this Cosma node, this string is `gfx90a`, and for the MI300 series it is `gfx942`.\n",
    "\n",
    "As there is only one set of instructions within this Makefile, we can build the code by simply calling `make`.\n",
    "We can also use the `openmp_code` option to build it directly.\n",
    "\n",
    "We can compile the code:"
   ]
  },
  {
   "cell_type": "code",
   "execution_count": null,
   "id": "1e9501da-8f62-43e5-b0e3-a81396dc139e",
   "metadata": {},
   "outputs": [],
   "source": [
    "make"
   ]
  },
  {
   "cell_type": "markdown",
   "id": "7e68b433-7f30-4ddb-8ced-4c1b0b0c23ea",
   "metadata": {},
   "source": [
    "And then run it:"
   ]
  },
  {
   "cell_type": "code",
   "execution_count": null,
   "id": "c0575258-c698-4b28-a13b-a76c9aea34b4",
   "metadata": {},
   "outputs": [],
   "source": [
    "./openmp_code"
   ]
  },
  {
   "cell_type": "markdown",
   "id": "26aba7c6-2212-41c9-87b6-4f8b19cced8a",
   "metadata": {},
   "source": [
    "Congratulations, you've successfully built the OpenMP code using the Makefile!\n",
    "Now let's see how we can use `cmake` to build OpenMP code.\n",
    "\n",
    "## Building with `cmake`\n",
    "\n",
    "We can also use `cmake` to build code with OpenMP directives.\n",
    "To accomodate our interactive notebooks, `cmake` has already been loaded to the environment.\n",
    "However, in some systems, you might need to load it with the command `module load cmake`.\n",
    "\n",
    "`cmake` instructions are contained in the [`CMakeLists.txt`](./Fortran/CMakeLists.txt) file, which we will look at below:"
   ]
  },
  {
   "cell_type": "code",
   "execution_count": null,
   "id": "b37756bf-c271-4a54-acaa-44d54c888d9c",
   "metadata": {},
   "outputs": [],
   "source": [
    "cat CMakeLists.txt"
   ]
  },
  {
   "cell_type": "markdown",
   "id": "789394fb-b6c6-4878-83a4-0882a4eb0e0a",
   "metadata": {},
   "source": [
    "The same `-fopenmp` and `--offload-arch=${ROCM_GPU}` flags that we used previously to enable OpenMP compilation are now included directly in the `CMAKE_Fortran_FLAGS` variable.\n",
    "\n",
    "We can now use `cmake` to set up a `build` directory within which we can compile the code.\n",
    "We do this by using the `-B` option, pointing it to the location of the desired directory where we wish it to build - commonly named `build`.\n",
    "We can then call `cmake` again with `--build` and the directory name we previously used to generate the build configuration, i.e. `build`.\n",
    "Let's do those now:"
   ]
  },
  {
   "cell_type": "code",
   "execution_count": null,
   "id": "b2ad0772-978f-4f27-81a6-c51cab6e3834",
   "metadata": {},
   "outputs": [],
   "source": [
    "cmake -B build\n",
    "cmake --build build"
   ]
  },
  {
   "cell_type": "markdown",
   "id": "e04f377d-33b2-410f-9222-3c76afaa9c15",
   "metadata": {},
   "source": [
    "This will have compiled the code in the `build` directory.\n",
    "\n",
    "We can now run it in the usual way:"
   ]
  },
  {
   "cell_type": "code",
   "execution_count": null,
   "id": "4a373e2e-9112-4a7a-abb6-b4f7082c4254",
   "metadata": {},
   "outputs": [],
   "source": [
    "./build/openmp_code"
   ]
  },
  {
   "cell_type": "markdown",
   "id": "c7490303-a71a-4e9c-a51b-319630f14978",
   "metadata": {},
   "source": [
    "Now that we're comfortable enabling OpenMP directives in various build systems, let's start looking at single line pragma constructs in more detail."
   ]
  }
 ],
 "metadata": {
  "kernelspec": {
   "display_name": "NI200",
   "language": "bash",
   "name": "ni200"
  },
  "language_info": {
   "codemirror_mode": "shell",
   "file_extension": ".sh",
   "mimetype": "text/x-sh",
   "name": "bash"
  }
 },
 "nbformat": 4,
 "nbformat_minor": 5
}
