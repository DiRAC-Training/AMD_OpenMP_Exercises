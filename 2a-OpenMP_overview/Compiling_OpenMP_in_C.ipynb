{
 "cells": [
  {
   "cell_type": "markdown",
   "id": "b4aa3d78-dcb3-48fa-9c38-a7fdd3d2a5d2",
   "metadata": {},
   "source": [
    "# Building OpenMP with make and cmake\n",
    "\n",
    "This notebook will demonstrate the use of `make` and `cmake` to compile C and C++ code using OpenMP. \n",
    "First, let's check that we have an appropriate GPU to work on using the `rocm-smi` command.\n",
    "Then, we'll enter the source directory and make sure that our working environment is clean."
   ]
  },
  {
   "cell_type": "code",
   "execution_count": null,
   "id": "12edd184-ea54-4ab3-a057-e52a7aa48633",
   "metadata": {},
   "outputs": [],
   "source": [
    "rocm-smi\n",
    "cd $HOME/DiRAC-AMD-GPU/notebooks/02-OpenMP/2a-OpenMP_overview/C\n",
    "make clean"
   ]
  },
  {
   "cell_type": "markdown",
   "id": "6828af20-3fbf-4797-bcc0-7695335c9ccf",
   "metadata": {},
   "source": [
    "## The code\n",
    "\n",
    "The code we will be running is contained in the files [`openmp_code_c.c`](./C/openmp_code_c.c) for C, and [`openmp_code_cxx.cc`](./C/openmp_code_cxx.cc) for C++.\n",
    "The source code is the same as that used in the OpenMP section of the notebook of the previous section 1b, i.e. moving the assignment and summation of an array to the GPU.\n",
    "\n",
    "We can see the OpenMP instructions in the code by looking at the `pragma omp` statements in the code:"
   ]
  },
  {
   "cell_type": "code",
   "execution_count": null,
   "id": "dd195eba-3b8b-4860-81a4-66b99bc3c226",
   "metadata": {},
   "outputs": [],
   "source": [
    "grep \"pragma omp\" openmp_code*"
   ]
  },
  {
   "cell_type": "markdown",
   "id": "e1cf1fff-d76b-4e4a-8fff-40f6818f2c85",
   "metadata": {},
   "source": [
    "We will learn what these are doing in greater detail later, but for now it is enough to know that they are providing OpenMP instructions to the compiler.\n",
    "\n",
    "Let's look at building these codes using `make`.\n",
    "\n",
    "## Building with `make`\n",
    "\n",
    "The Makefile contained within this directory contains the instructions to build both the C and C++ versions of the code. \n",
    "Firstly, let's look at the [`Makefile`](./C/Makefile);"
   ]
  },
  {
   "cell_type": "code",
   "execution_count": null,
   "id": "f2a0fc25-976a-4e66-8fa4-9acd22200aa2",
   "metadata": {},
   "outputs": [],
   "source": [
    "cat Makefile"
   ]
  },
  {
   "cell_type": "markdown",
   "id": "27988025-fe2d-467b-b9d3-8bf81505c95e",
   "metadata": {},
   "source": [
    "Along with the usual `CCFLAGS` and `LDFLAGS` variables that we would expect to see in a standard Makefile, we can see an additional `OPENMP_FLAGS_CC` variable.\n",
    "This contains the flags necessary for the compiler to properly implement the OpenMP commands in our code.\n",
    "In particular, the `-fopenmp` is the flag that must be specified for both C and C++ to enable OpenMP directives.\n",
    "\n",
    "The `--offload-arch=${ROCM_GPU}` option gives the compiler hints as to what architecture to target the compilation for, but is not strictly necessary to compile OpenMP code.\n",
    "`ROCM_GPU` is a string that denotes the GPUs architecture, and can be a comma-separated list if targetting multiple GPUs in the same compilation.\n",
    "The series of commands `$(strip $(shell rocminfo |grep -m 1 -E gfx[^0]{1} | sed -e 's/ *Name: *//'))` checks our current system for ROCm compatible GPUs, and finds this string.\n",
    "For the MI200s that we are using on this Cosma node, this string is `gfx90a`, and for the MI300 series it is `gfx942`.\n",
    "\n",
    "We can compile the C example using the `openmp_code_c` option within the [`Makefile`](./C/Makefile). \n",
    "Let's build it now:"
   ]
  },
  {
   "cell_type": "code",
   "execution_count": null,
   "id": "9a7aee27-8940-4512-8624-db6f1a6d62e1",
   "metadata": {},
   "outputs": [],
   "source": [
    "make openmp_code_c"
   ]
  },
  {
   "cell_type": "markdown",
   "id": "8d22c0f1-a1b8-417f-aa01-21d1d00e5204",
   "metadata": {},
   "source": [
    "And now we can run the compiled code:"
   ]
  },
  {
   "cell_type": "code",
   "execution_count": null,
   "id": "90691d14-b0cf-4855-9119-16f981911644",
   "metadata": {},
   "outputs": [],
   "source": [
    "./openmp_code_c"
   ]
  },
  {
   "cell_type": "markdown",
   "id": "381cb982-e0fa-402a-ac46-bc2060ef0580",
   "metadata": {},
   "source": [
    "The compilation process is the same for C++, but using the `openmp_code_cxx` make command.\n",
    "Let's compile it now:"
   ]
  },
  {
   "cell_type": "code",
   "execution_count": null,
   "id": "78e08e7b-53b6-42ee-85ff-ed1d17a6fc66",
   "metadata": {},
   "outputs": [],
   "source": [
    "make openmp_code_cxx"
   ]
  },
  {
   "cell_type": "markdown",
   "id": "5e50f1ac-0c5c-48cd-a177-f578f226283e",
   "metadata": {},
   "source": [
    "In order to execute the C++ version of this code, we need to set the environment variable `HSA_XNACK` to $1$.\n",
    "This allows the operating system to automatically assign and move memory and control between the host and device.\n",
    "We will discuss this option further in later sections.\n",
    "For now, let's set it and run the code:"
   ]
  },
  {
   "cell_type": "code",
   "execution_count": null,
   "id": "709c5060-3859-42ea-abdc-f7e396b1a50b",
   "metadata": {},
   "outputs": [],
   "source": [
    "export HSA_XNACK=1\n",
    "./openmp_code_cxx"
   ]
  },
  {
   "cell_type": "markdown",
   "id": "69523edd-9903-4cd5-8657-122465bed9fb",
   "metadata": {},
   "source": [
    "Congratulations, you've successfully built the OpenMP code using the Makefile!\n",
    "Now let's see how we can use `cmake` to build OpenMP code.\n",
    "\n",
    "## Building with `cmake`\n",
    "\n",
    "We can also use `cmake` to build code with OpenMP directives.\n",
    "To accomodate our interactive notebooks, `cmake` has already been loaded to the environment.\n",
    "However, in some systems, you might need to load it with the command `module load cmake`.\n",
    "\n",
    "`cmake` instructions are contained in the [`CMakeLists.txt`](./C/CMakeLists.txt) file, which we will look at below:"
   ]
  },
  {
   "cell_type": "code",
   "execution_count": null,
   "id": "9509b7be-b5b9-41b9-a8ca-4d8c13d3c3e7",
   "metadata": {},
   "outputs": [],
   "source": [
    "cat CMakeLists.txt"
   ]
  },
  {
   "cell_type": "markdown",
   "id": "c4f3616b-006f-4ebb-96f2-0bf2e92f6c90",
   "metadata": {},
   "source": [
    "The same `-fopenmp` and `--offload-arch=${ROCM_GPU}` flags that we used previously to enable OpenMP compilation are now included directly in the `CMAKE_C_FLAGS` variable.\n",
    "\n",
    "We can now use `cmake` to set up a `build` directory within which we can compile the code.\n",
    "We do this by using the `-B` option, pointing it to the location of the desired directory where we wish it to build - commonly named `build`.\n",
    "We can then call `cmake` again with `--build` and the directory name we previously used to generate the build configuration, i.e. `build`.\n",
    "Let's do those now:"
   ]
  },
  {
   "cell_type": "code",
   "execution_count": null,
   "id": "37f4e196-7bd6-4b7a-8712-4af63bec6042",
   "metadata": {},
   "outputs": [],
   "source": [
    "cmake -B build\n",
    "cmake --build build"
   ]
  },
  {
   "cell_type": "markdown",
   "id": "1ea6ef2f-4cd6-4968-a2df-41260fda3e01",
   "metadata": {},
   "source": [
    "This will have compiled both the C and C++ versions of the code in the `build` directory.\n",
    "\n",
    "We can now run the C version of the code in the usual way:"
   ]
  },
  {
   "cell_type": "code",
   "execution_count": null,
   "id": "cd9b65d7-ae52-490b-b565-b685a80812f8",
   "metadata": {},
   "outputs": [],
   "source": [
    "./build/openmp_code_c"
   ]
  },
  {
   "cell_type": "markdown",
   "id": "38647395-d8d6-41dc-95c0-f88813801107",
   "metadata": {},
   "source": [
    "And finally the C++ version:"
   ]
  },
  {
   "cell_type": "code",
   "execution_count": null,
   "id": "89195c1e-4b16-40ca-810e-88bde20be1a8",
   "metadata": {
    "editable": true,
    "slideshow": {
     "slide_type": ""
    },
    "tags": []
   },
   "outputs": [],
   "source": [
    "./build/openmp_code_cxx"
   ]
  },
  {
   "cell_type": "markdown",
   "id": "3ff170bf-e04d-4be6-b430-82cc6b74a3cb",
   "metadata": {},
   "source": [
    "Now that we're comfortable enabling OpenMP directives in various build systems, let's start looking at single line pragma constructs in more detail."
   ]
  }
 ],
 "metadata": {
  "kernelspec": {
   "display_name": "NI200",
   "language": "bash",
   "name": "ni200"
  },
  "language_info": {
   "codemirror_mode": "shell",
   "file_extension": ".sh",
   "mimetype": "text/x-sh",
   "name": "bash"
  }
 },
 "nbformat": 4,
 "nbformat_minor": 5
}
